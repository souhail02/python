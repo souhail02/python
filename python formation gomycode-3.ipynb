{
 "cells": [
  {
   "cell_type": "code",
   "execution_count": 2,
   "id": "bf369f66",
   "metadata": {},
   "outputs": [
    {
     "name": "stdout",
     "output_type": "stream",
     "text": [
      "hello world !\n"
     ]
    }
   ],
   "source": [
    "print(\"hello world !\")"
   ]
  },
  {
   "cell_type": "code",
   "execution_count": 3,
   "id": "eb7a2f63",
   "metadata": {},
   "outputs": [
    {
     "name": "stdout",
     "output_type": "stream",
     "text": [
      "hello world \n",
      "hello world \n",
      "hello world \n"
     ]
    }
   ],
   "source": [
    "print(\"hello world \")\n",
    "print(\"hello world \")\n",
    "print(\"hello world \")\n"
   ]
  },
  {
   "cell_type": "code",
   "execution_count": 4,
   "id": "a7d1ae33",
   "metadata": {},
   "outputs": [
    {
     "name": "stdout",
     "output_type": "stream",
     "text": [
      "hello world! \n",
      "hello world! \n",
      "hello world! \n",
      "\n"
     ]
    }
   ],
   "source": [
    "print(\"hello world! \\nhello world! \\nhello world! \\n\")"
   ]
  },
  {
   "cell_type": "code",
   "execution_count": 5,
   "id": "c398fd3d",
   "metadata": {},
   "outputs": [
    {
     "name": "stdout",
     "output_type": "stream",
     "text": [
      "hellogomycode\n"
     ]
    }
   ],
   "source": [
    "print(\"hello\"+\"gomycode\")"
   ]
  },
  {
   "cell_type": "code",
   "execution_count": 6,
   "id": "6d172dd3",
   "metadata": {},
   "outputs": [
    {
     "name": "stdout",
     "output_type": "stream",
     "text": [
      "hello gomycode\n"
     ]
    }
   ],
   "source": [
    "print(\"hello\"+\" \"+\"gomycode\")"
   ]
  },
  {
   "cell_type": "code",
   "execution_count": 10,
   "id": "84766430",
   "metadata": {},
   "outputs": [
    {
     "name": "stdout",
     "output_type": "stream",
     "text": [
      "hello\n",
      "gomycode\n"
     ]
    }
   ],
   "source": [
    "print (\"hello\\n\"+\"gomycode\")"
   ]
  },
  {
   "cell_type": "code",
   "execution_count": null,
   "id": "0d77028f",
   "metadata": {},
   "outputs": [],
   "source": [
    "input (\"what’s your name\")"
   ]
  },
  {
   "cell_type": "code",
   "execution_count": 24,
   "id": "f224918f",
   "metadata": {},
   "outputs": [
    {
     "name": "stdout",
     "output_type": "stream",
     "text": [
      "Day 1 - String Manipulation\n",
      "String Concatenation is done with the  sign.\n",
      "e.g. print (\"Hello\" + \"world\")\n",
      "New lines can be created with a backslash and n.\n"
     ]
    }
   ],
   "source": [
    "print(\"Day 1 - String Manipulation\")\n",
    "print(\"String Concatenation is done with the \"+\" sign.\")\n",
    "print('e.g. print (\"Hello\" + \"world\")')\n",
    "print(\"New lines can be created with a backslash and n.\")"
   ]
  },
  {
   "cell_type": "code",
   "execution_count": 36,
   "id": "5ab5d1d7",
   "metadata": {},
   "outputs": [
    {
     "name": "stdout",
     "output_type": "stream",
     "text": [
      "entrez un nombre5\n",
      "5 is positive number\n"
     ]
    }
   ],
   "source": [
    "num=int(input(\"entrez un nombre\"))\n",
    "if num>0:\n",
    "    print(num,\"is positive number\")\n",
    "else:\n",
    "    print(num,\"is negative number\")"
   ]
  },
  {
   "cell_type": "code",
   "execution_count": 7,
   "id": "9e7f44a4",
   "metadata": {},
   "outputs": [
    {
     "name": "stdout",
     "output_type": "stream",
     "text": [
      "entrer la note7\n",
      "redoublant\n"
     ]
    }
   ],
   "source": [
    "x=float(input(\"entrer la note\"))\n",
    "if x>=18: \n",
    "    print (\"mention==excellent\")\n",
    "elif x>=16:\n",
    "    print(\"mention==très bien\" )\n",
    "elif x>=14:\n",
    "    print (\"mention==bien\")\n",
    "elif x>=12:\n",
    "    print(\"mention==assez bien\")\n",
    "elif x>=10: \n",
    "    print (\"mention==passable\")\n",
    "else:\n",
    "    print(\"redoublant\")\n"
   ]
  },
  {
   "cell_type": "code",
   "execution_count": 32,
   "id": "aba52df7",
   "metadata": {},
   "outputs": [
    {
     "name": "stdout",
     "output_type": "stream",
     "text": [
      "entrer la note15\n",
      "entrer l'activiténon\n",
      "mention==bien\n",
      "la note est: 15.0\n"
     ]
    }
   ],
   "source": [
    "x=float(input(\"entrer la note\"))\n",
    "y=input(\"entrer l'activité\")\n",
    "if x>=18: \n",
    "    print (\"mention==excellent\")\n",
    "    if y==\"oui\":\n",
    "        x=x+1\n",
    "elif x>=16:\n",
    "    print(\"mention==très bien\" )\n",
    "    if y==\"oui\":\n",
    "            x=x+1\n",
    "elif x>=14:\n",
    "    print (\"mention==bien\")\n",
    "    if y==\"oui\":\n",
    "            x=x+1  \n",
    "elif x>=12:\n",
    "    print(\"mention==assez bien\")\n",
    "    if y==\"oui\":\n",
    "            x=x+1 \n",
    "elif x>=10: \n",
    "    print (\"mention==passable\")\n",
    "    if y==\"oui\":\n",
    "            x=x+1\n",
    "else:\n",
    "    print(\"redoublant\")\n",
    "print(\"la note est:\",x)\n",
    "\n"
   ]
  },
  {
   "cell_type": "code",
   "execution_count": 34,
   "id": "a4521986",
   "metadata": {},
   "outputs": [
    {
     "name": "stdout",
     "output_type": "stream",
     "text": [
      "entrer le nombre3\n",
      "impaire\n"
     ]
    }
   ],
   "source": [
    "number=int(input(\"entrer le nombre\"))\n",
    "if number%2==0:\n",
    "    print(\"pair\")\n",
    "else:\n",
    "    print(\"impaire\")"
   ]
  },
  {
   "cell_type": "code",
   "execution_count": 35,
   "id": "6f90787a",
   "metadata": {},
   "outputs": [
    {
     "ename": "KeyboardInterrupt",
     "evalue": "Interrupted by user",
     "output_type": "error",
     "traceback": [
      "\u001b[0;31m---------------------------------------------------------------------------\u001b[0m",
      "\u001b[0;31mKeyboardInterrupt\u001b[0m                         Traceback (most recent call last)",
      "Cell \u001b[0;32mIn[35], line 1\u001b[0m\n\u001b[0;32m----> 1\u001b[0m number\u001b[38;5;241m=\u001b[39m\u001b[38;5;28mint\u001b[39m(\u001b[38;5;28minput\u001b[39m(\u001b[38;5;124m\"\u001b[39m\u001b[38;5;124mentrer le nombre\u001b[39m\u001b[38;5;124m\"\u001b[39m))\n\u001b[1;32m      2\u001b[0m \u001b[38;5;28;01mif\u001b[39;00m number\u001b[38;5;241m%\u001b[39m\u001b[38;5;241m2\u001b[39m\u001b[38;5;241m==\u001b[39m\u001b[38;5;241m0\u001b[39m:\n\u001b[1;32m      3\u001b[0m     \u001b[38;5;28mprint\u001b[39m(\u001b[38;5;124m\"\u001b[39m\u001b[38;5;124mpair\u001b[39m\u001b[38;5;124m\"\u001b[39m)\n",
      "File \u001b[0;32m~/anaconda3/lib/python3.11/site-packages/ipykernel/kernelbase.py:1202\u001b[0m, in \u001b[0;36mKernel.raw_input\u001b[0;34m(self, prompt)\u001b[0m\n\u001b[1;32m   1200\u001b[0m     msg \u001b[38;5;241m=\u001b[39m \u001b[38;5;124m\"\u001b[39m\u001b[38;5;124mraw_input was called, but this frontend does not support input requests.\u001b[39m\u001b[38;5;124m\"\u001b[39m\n\u001b[1;32m   1201\u001b[0m     \u001b[38;5;28;01mraise\u001b[39;00m StdinNotImplementedError(msg)\n\u001b[0;32m-> 1202\u001b[0m \u001b[38;5;28;01mreturn\u001b[39;00m \u001b[38;5;28mself\u001b[39m\u001b[38;5;241m.\u001b[39m_input_request(\n\u001b[1;32m   1203\u001b[0m     \u001b[38;5;28mstr\u001b[39m(prompt),\n\u001b[1;32m   1204\u001b[0m     \u001b[38;5;28mself\u001b[39m\u001b[38;5;241m.\u001b[39m_parent_ident[\u001b[38;5;124m\"\u001b[39m\u001b[38;5;124mshell\u001b[39m\u001b[38;5;124m\"\u001b[39m],\n\u001b[1;32m   1205\u001b[0m     \u001b[38;5;28mself\u001b[39m\u001b[38;5;241m.\u001b[39mget_parent(\u001b[38;5;124m\"\u001b[39m\u001b[38;5;124mshell\u001b[39m\u001b[38;5;124m\"\u001b[39m),\n\u001b[1;32m   1206\u001b[0m     password\u001b[38;5;241m=\u001b[39m\u001b[38;5;28;01mFalse\u001b[39;00m,\n\u001b[1;32m   1207\u001b[0m )\n",
      "File \u001b[0;32m~/anaconda3/lib/python3.11/site-packages/ipykernel/kernelbase.py:1245\u001b[0m, in \u001b[0;36mKernel._input_request\u001b[0;34m(self, prompt, ident, parent, password)\u001b[0m\n\u001b[1;32m   1242\u001b[0m \u001b[38;5;28;01mexcept\u001b[39;00m \u001b[38;5;167;01mKeyboardInterrupt\u001b[39;00m:\n\u001b[1;32m   1243\u001b[0m     \u001b[38;5;66;03m# re-raise KeyboardInterrupt, to truncate traceback\u001b[39;00m\n\u001b[1;32m   1244\u001b[0m     msg \u001b[38;5;241m=\u001b[39m \u001b[38;5;124m\"\u001b[39m\u001b[38;5;124mInterrupted by user\u001b[39m\u001b[38;5;124m\"\u001b[39m\n\u001b[0;32m-> 1245\u001b[0m     \u001b[38;5;28;01mraise\u001b[39;00m \u001b[38;5;167;01mKeyboardInterrupt\u001b[39;00m(msg) \u001b[38;5;28;01mfrom\u001b[39;00m \u001b[38;5;28;01mNone\u001b[39;00m\n\u001b[1;32m   1246\u001b[0m \u001b[38;5;28;01mexcept\u001b[39;00m \u001b[38;5;167;01mException\u001b[39;00m:\n\u001b[1;32m   1247\u001b[0m     \u001b[38;5;28mself\u001b[39m\u001b[38;5;241m.\u001b[39mlog\u001b[38;5;241m.\u001b[39mwarning(\u001b[38;5;124m\"\u001b[39m\u001b[38;5;124mInvalid Message:\u001b[39m\u001b[38;5;124m\"\u001b[39m, exc_info\u001b[38;5;241m=\u001b[39m\u001b[38;5;28;01mTrue\u001b[39;00m)\n",
      "\u001b[0;31mKeyboardInterrupt\u001b[0m: Interrupted by user"
     ]
    }
   ],
   "source": [
    "number=int(input(\"entrer le nombre\"))\n",
    "if number%2==0:\n",
    "    print(\"pair\")\n",
    "else:\n",
    "    print(\"impaire\")\n",
    "    "
   ]
  },
  {
   "cell_type": "code",
   "execution_count": 39,
   "id": "5a14387f",
   "metadata": {},
   "outputs": [
    {
     "name": "stdout",
     "output_type": "stream",
     "text": [
      "enter votre âge56\n",
      "number is 672\n",
      "number is 2688\n",
      "number is 20440\n"
     ]
    }
   ],
   "source": [
    "number=int(input(\"enter votre âge\"))\n",
    "Result=90-number\n",
    "x=12*result\n",
    "print (f\"number is {number*x}\")\n",
    "y=48\n",
    "print (f\"number is {number*y}\")\n",
    "z=365\n",
    "print (f\"number is {number*z}\")\n",
    "\n",
    "\n"
   ]
  },
  {
   "cell_type": "code",
   "execution_count": 44,
   "id": "5b7a5e67",
   "metadata": {},
   "outputs": [
    {
     "name": "stdout",
     "output_type": "stream",
     "text": [
      "enter votre âge56\n",
      "you have 12410 days,1768 weeks, and 408 months\n",
      "you have 12410 days 1768 weeks,and 408 months\n",
      "you have 12410 days 1768 weeks,and 408 months\n"
     ]
    }
   ],
   "source": [
    "number=int(input(\"enter votre âge\"))\n",
    "result=90-number\n",
    "x=12*result\n",
    "y=52*result\n",
    "z=365*result\n",
    "print(f\"you have {z} days,{y} weeks, and {x} months\")\n",
    "print(\"you have \"+str(z)+\" days \"+str(y)+\" weeks,and \"+str(x)+\" months\")\n",
    "print(\"you have\", z,\"days\", y,\"weeks,and\", x,\"months\")\n",
    "      "
   ]
  },
  {
   "cell_type": "code",
   "execution_count": 62,
   "id": "79e2ac79",
   "metadata": {},
   "outputs": [
    {
     "name": "stdout",
     "output_type": "stream",
     "text": [
      "entrez une valeur entre 1 et 52\n",
      "inférieur\n"
     ]
    }
   ],
   "source": [
    "import numpy as np\n",
    "x=np.random.randint(1,5)\n",
    "y=int(input(\"entrez une valeur entre 1 et 5\"))\n",
    "if x==y:\n",
    "    print (\"bravo\")\n",
    "if x>y:\n",
    "    print (\"supérieur\")\n",
    "if x<y:\n",
    "    print (\"inférieur\")\n",
    " "
   ]
  },
  {
   "cell_type": "code",
   "execution_count": 71,
   "id": "aff142b4",
   "metadata": {},
   "outputs": [
    {
     "name": "stdout",
     "output_type": "stream",
     "text": [
      "entrez une valeur entre 1 et 55\n",
      "inférieur\n",
      "entrez une valeur entre 1 et 54\n",
      "inférieur\n",
      "entrez une valeur entre 1 et 53\n",
      "bravo\n"
     ]
    }
   ],
   "source": [
    "import numpy as np\n",
    "x=np.random.randint(1,5)\n",
    "b=True\n",
    "while b==True:\n",
    "    y=int(input(\"entrez une valeur entre 1 et 5\"))\n",
    "    if x==y:\n",
    "        print (\"bravo\")\n",
    "        b=False\n",
    "    if x>y:\n",
    "        print (\"supérieur\")\n",
    "    if x<y:\n",
    "        print (\"inférieur\")\n"
   ]
  },
  {
   "cell_type": "code",
   "execution_count": 80,
   "id": "3c3984e5",
   "metadata": {},
   "outputs": [
    {
     "name": "stdout",
     "output_type": "stream",
     "text": [
      "entrez une valeur entre 1 et 55\n",
      "inférieur\n",
      "entrez une valeur entre 1 et 55\n",
      "inférieur\n",
      "entrez une valeur entre 1 et 55\n",
      "inférieur\n"
     ]
    }
   ],
   "source": [
    "import numpy as np\n",
    "x=np.random.randint(1,5)\n",
    "for i in range(3):\n",
    "    y=int(input(\"entrez une valeur entre 1 et 5\"))\n",
    "    if x==y:\n",
    "        print (\"bravo\")\n",
    "        break\n",
    "    if x>y:\n",
    "        print (\"supérieur\")\n",
    "    if x<y:\n",
    "        print (\"inférieur\")\n",
    "\n"
   ]
  },
  {
   "cell_type": "code",
   "execution_count": 85,
   "id": "c6874784",
   "metadata": {},
   "outputs": [
    {
     "name": "stdout",
     "output_type": "stream",
     "text": [
      "0\n",
      "1\n",
      "2\n",
      "3\n",
      "4\n",
      "5\n"
     ]
    }
   ],
   "source": [
    "for i in range(0,6,1):\n",
    "    print(i)"
   ]
  },
  {
   "cell_type": "code",
   "execution_count": 87,
   "id": "4bca7016",
   "metadata": {},
   "outputs": [
    {
     "name": "stdout",
     "output_type": "stream",
     "text": [
      "0\n",
      "1\n",
      "2\n",
      "3\n",
      "4\n",
      "5\n"
     ]
    }
   ],
   "source": [
    "i=0\n",
    "while i<6:\n",
    "    print(i)\n",
    "    i+=1"
   ]
  },
  {
   "cell_type": "code",
   "execution_count": 95,
   "id": "81d347d5",
   "metadata": {},
   "outputs": [
    {
     "name": "stdout",
     "output_type": "stream",
     "text": [
      "entrez une valeur entre 1 et 53\n",
      "inférieur\n",
      "entrez une valeur entre 1 et 52\n",
      "bravo\n"
     ]
    }
   ],
   "source": [
    "import numpy as np\n",
    "x=np.random.randint(1,5)\n",
    "b=True\n",
    "i=1 \n",
    "while b==True and i<4:\n",
    "    y=int(input(\"entrez une valeur entre 1 et 5\"))\n",
    "    if x==y:\n",
    "        print (\"bravo\")\n",
    "        b=False\n",
    "    if x>y:\n",
    "        print (\"supérieur\")\n",
    "    if x<y:\n",
    "        print (\"inférieur\")\n",
    "    i+=1"
   ]
  },
  {
   "cell_type": "code",
   "execution_count": 1,
   "id": "63aff772",
   "metadata": {},
   "outputs": [
    {
     "name": "stdout",
     "output_type": "stream",
     "text": [
      "entrer le nombre d'élève3\n",
      "entrer la 1 ère note10\n",
      "entrer la 2 ème note15\n",
      "entrer la 3 ème note20\n",
      "la moyenne est 15.0 le max est 20.0 le min est 10.0\n"
     ]
    }
   ],
   "source": [
    "N=int(input(\"entrer le nombre d'élève\"))\n",
    "l=[]\n",
    "for i in range (N):\n",
    "    if i==0:\n",
    "        E=float(input(f\"entrer la {i+1} ère note\"))\n",
    "    else:\n",
    "        E=float(input(f\"entrer la {i+1} ème note\"))\n",
    "    l.append(E)\n",
    "print(f\"la moyenne est\",sum(l)/N, \"le max est\", max(l), \"le min est\", min(l))\n",
    "\n",
    "y=int(input\"rentrez)\n",
    "\n",
    "    \n",
    "    \n",
    "\n",
    "\n",
    "\n",
    "\n",
    "\n",
    "\n",
    "\n"
   ]
  },
  {
   "cell_type": "code",
   "execution_count": 28,
   "id": "10dc36b1",
   "metadata": {},
   "outputs": [
    {
     "name": "stdout",
     "output_type": "stream",
     "text": [
      "Welcome to Python Pizza Deliveries\n"
     ]
    },
    {
     "ename": "KeyboardInterrupt",
     "evalue": "Interrupted by user",
     "output_type": "error",
     "traceback": [
      "\u001b[0;31m---------------------------------------------------------------------------\u001b[0m",
      "\u001b[0;31mKeyboardInterrupt\u001b[0m                         Traceback (most recent call last)",
      "Cell \u001b[0;32mIn[28], line 2\u001b[0m\n\u001b[1;32m      1\u001b[0m \u001b[38;5;28mprint\u001b[39m(\u001b[38;5;124m\"\u001b[39m\u001b[38;5;124mWelcome to Python Pizza Deliveries\u001b[39m\u001b[38;5;124m\"\u001b[39m)\n\u001b[0;32m----> 2\u001b[0m size\u001b[38;5;241m=\u001b[39m\u001b[38;5;28minput\u001b[39m(\u001b[38;5;124m\"\u001b[39m\u001b[38;5;124minsert the size of the pizza\u001b[39m\u001b[38;5;124m\"\u001b[39m)\n\u001b[1;32m      3\u001b[0m \u001b[38;5;28;01mif\u001b[39;00m size\u001b[38;5;241m==\u001b[39mlarge:\n\u001b[1;32m      4\u001b[0m     \u001b[38;5;28mprint\u001b[39m(\u001b[38;5;124m\"\u001b[39m\u001b[38;5;124mL\u001b[39m\u001b[38;5;124m\"\u001b[39m)\n",
      "File \u001b[0;32m~/anaconda3/lib/python3.11/site-packages/ipykernel/kernelbase.py:1202\u001b[0m, in \u001b[0;36mKernel.raw_input\u001b[0;34m(self, prompt)\u001b[0m\n\u001b[1;32m   1200\u001b[0m     msg \u001b[38;5;241m=\u001b[39m \u001b[38;5;124m\"\u001b[39m\u001b[38;5;124mraw_input was called, but this frontend does not support input requests.\u001b[39m\u001b[38;5;124m\"\u001b[39m\n\u001b[1;32m   1201\u001b[0m     \u001b[38;5;28;01mraise\u001b[39;00m StdinNotImplementedError(msg)\n\u001b[0;32m-> 1202\u001b[0m \u001b[38;5;28;01mreturn\u001b[39;00m \u001b[38;5;28mself\u001b[39m\u001b[38;5;241m.\u001b[39m_input_request(\n\u001b[1;32m   1203\u001b[0m     \u001b[38;5;28mstr\u001b[39m(prompt),\n\u001b[1;32m   1204\u001b[0m     \u001b[38;5;28mself\u001b[39m\u001b[38;5;241m.\u001b[39m_parent_ident[\u001b[38;5;124m\"\u001b[39m\u001b[38;5;124mshell\u001b[39m\u001b[38;5;124m\"\u001b[39m],\n\u001b[1;32m   1205\u001b[0m     \u001b[38;5;28mself\u001b[39m\u001b[38;5;241m.\u001b[39mget_parent(\u001b[38;5;124m\"\u001b[39m\u001b[38;5;124mshell\u001b[39m\u001b[38;5;124m\"\u001b[39m),\n\u001b[1;32m   1206\u001b[0m     password\u001b[38;5;241m=\u001b[39m\u001b[38;5;28;01mFalse\u001b[39;00m,\n\u001b[1;32m   1207\u001b[0m )\n",
      "File \u001b[0;32m~/anaconda3/lib/python3.11/site-packages/ipykernel/kernelbase.py:1245\u001b[0m, in \u001b[0;36mKernel._input_request\u001b[0;34m(self, prompt, ident, parent, password)\u001b[0m\n\u001b[1;32m   1242\u001b[0m \u001b[38;5;28;01mexcept\u001b[39;00m \u001b[38;5;167;01mKeyboardInterrupt\u001b[39;00m:\n\u001b[1;32m   1243\u001b[0m     \u001b[38;5;66;03m# re-raise KeyboardInterrupt, to truncate traceback\u001b[39;00m\n\u001b[1;32m   1244\u001b[0m     msg \u001b[38;5;241m=\u001b[39m \u001b[38;5;124m\"\u001b[39m\u001b[38;5;124mInterrupted by user\u001b[39m\u001b[38;5;124m\"\u001b[39m\n\u001b[0;32m-> 1245\u001b[0m     \u001b[38;5;28;01mraise\u001b[39;00m \u001b[38;5;167;01mKeyboardInterrupt\u001b[39;00m(msg) \u001b[38;5;28;01mfrom\u001b[39;00m \u001b[38;5;28;01mNone\u001b[39;00m\n\u001b[1;32m   1246\u001b[0m \u001b[38;5;28;01mexcept\u001b[39;00m \u001b[38;5;167;01mException\u001b[39;00m:\n\u001b[1;32m   1247\u001b[0m     \u001b[38;5;28mself\u001b[39m\u001b[38;5;241m.\u001b[39mlog\u001b[38;5;241m.\u001b[39mwarning(\u001b[38;5;124m\"\u001b[39m\u001b[38;5;124mInvalid Message:\u001b[39m\u001b[38;5;124m\"\u001b[39m, exc_info\u001b[38;5;241m=\u001b[39m\u001b[38;5;28;01mTrue\u001b[39;00m)\n",
      "\u001b[0;31mKeyboardInterrupt\u001b[0m: Interrupted by user"
     ]
    }
   ],
   "source": [
    "print(\"Welcome to Python Pizza Deliveries\")\n",
    "size=input(\"insert the size of the pizza\")\n",
    "if size==large:\n",
    "    print(\"L\")\n",
    "elif size==medium:\n",
    "    print(\"M\")\n",
    "elif size==small:\n",
    "    print(\"S\")\n",
    "y=str(\"yes\")\n",
    "n=str(\"no\")\n",
    "add_pepperoni=input(\"add pepperoni\")\n",
    "if (f'add_pepperoni=y',y):\n",
    "        print(\"Y\")\n",
    "else:\n",
    "        print(\"N\")\n",
    "extra_cheese=input(\"extra cheese\")\n",
    "if(f'extra_cheese=y',y):\n",
    "    print(\"Y\")\n",
    "else:\n",
    "    print(\"N\")\n",
    "\n",
    "\n"
   ]
  },
  {
   "cell_type": "markdown",
   "id": "bf99c2b2",
   "metadata": {},
   "source": [
    "##### "
   ]
  },
  {
   "cell_type": "code",
   "execution_count": 25,
   "id": "48c1f6be",
   "metadata": {},
   "outputs": [
    {
     "name": "stdout",
     "output_type": "stream",
     "text": [
      "Welcome to Python Pizza Deliveries\n",
      "insert the size of the pizzalarge\n"
     ]
    },
    {
     "ename": "NameError",
     "evalue": "name 'large' is not defined",
     "output_type": "error",
     "traceback": [
      "\u001b[0;31m---------------------------------------------------------------------------\u001b[0m",
      "\u001b[0;31mNameError\u001b[0m                                 Traceback (most recent call last)",
      "Cell \u001b[0;32mIn[25], line 6\u001b[0m\n\u001b[1;32m      4\u001b[0m g\u001b[38;5;241m=\u001b[39m\u001b[38;5;241m25\u001b[39m\n\u001b[1;32m      5\u001b[0m size\u001b[38;5;241m=\u001b[39m\u001b[38;5;28minput\u001b[39m(\u001b[38;5;124m\"\u001b[39m\u001b[38;5;124minsert the size of the pizza\u001b[39m\u001b[38;5;124m\"\u001b[39m)\n\u001b[0;32m----> 6\u001b[0m \u001b[38;5;28;01mif\u001b[39;00m size\u001b[38;5;241m==\u001b[39mlarge:\n\u001b[1;32m      7\u001b[0m     \u001b[38;5;28mprint\u001b[39m(\u001b[38;5;124m\"\u001b[39m\u001b[38;5;124mL\u001b[39m\u001b[38;5;124m\"\u001b[39m)\n\u001b[1;32m      8\u001b[0m \u001b[38;5;28;01melif\u001b[39;00m size\u001b[38;5;241m==\u001b[39mmedium:\n",
      "\u001b[0;31mNameError\u001b[0m: name 'large' is not defined"
     ]
    }
   ],
   "source": [
    "print(\"Welcome to Python Pizza Deliveries\")\n",
    "p=15\n",
    "m=20\n",
    "g=25\n",
    "\n"
   ]
  },
  {
   "cell_type": "code",
   "execution_count": 58,
   "id": "50214793",
   "metadata": {
    "scrolled": true
   },
   "outputs": [
    {
     "name": "stdout",
     "output_type": "stream",
     "text": [
      "('Nom:john', 'Âge:25', 'Sexe:Masculin')\n",
      "Nom:john\n"
     ]
    }
   ],
   "source": [
    "personne=(\"Nom\"\":\" \"john\",\"Âge\"\":\"\"25\",\"Sexe\"\":\"\"Masculin\")\n",
    "print(personne)\n",
    "print(personne[0])\n"
   ]
  },
  {
   "cell_type": "code",
   "execution_count": 49,
   "id": "bdceb2d2",
   "metadata": {},
   "outputs": [
    {
     "name": "stdout",
     "output_type": "stream",
     "text": [
      "lait\n",
      "['lait', 'pain', 'œufs', 'bananes', 'chocolate']\n",
      "['pain', 'œufs', 'bananes', 'chocolate']\n"
     ]
    }
   ],
   "source": [
    "grocery_list=[\"lait\", \"pain\", \"œufs\", \"bananes\"] \n",
    "print(grocery_list[0])\n",
    "grocery_list.append(\"chocolate\")\n",
    "print(grocery_list)\n",
    "del grocery_list[0]\n",
    "print (grocery_list)\n"
   ]
  },
  {
   "cell_type": "code",
   "execution_count": 62,
   "id": "666bda26",
   "metadata": {},
   "outputs": [
    {
     "name": "stdout",
     "output_type": "stream",
     "text": [
      "{1, 2, 3, 4, 5}\n",
      "{1, 2, 3, 4, 5, 6}\n",
      "6\n",
      "{1, 2, 3, 4, 5, 6}\n"
     ]
    }
   ],
   "source": [
    "unique_numbers={1, 2, 3, 4, 5}\n",
    "print(unique_numbers)\n",
    "unique_numbers.add(6)\n",
    "print (unique_numbers)\n",
    "print(len(unique_numbers))\n",
    "unique_numbers.add(3)\n",
    "print(unique_numbers)"
   ]
  },
  {
   "cell_type": "code",
   "execution_count": 76,
   "id": "485b203b",
   "metadata": {},
   "outputs": [
    {
     "name": "stdout",
     "output_type": "stream",
     "text": [
      "{'name': 'John', 'age': '25', 'position': 'Developer', 'salary': '3000'}\n",
      "John\n",
      "{'name': 'John', 'age': '25', 'position': 'manager', 'salary': '3000'}\n"
     ]
    }
   ],
   "source": [
    "employee={\"name\":\"John\", \"age\":\"25\", \"position\":\"Developer\", \"salary\":\"3000\"}\n",
    "print(employee)\n",
    "print(employee[\"name\"])\n",
    "employee[\"position\"]=\"manager\"\n",
    "print(employee)"
   ]
  },
  {
   "cell_type": "code",
   "execution_count": 9,
   "id": "8b3204ae",
   "metadata": {},
   "outputs": [
    {
     "name": "stdout",
     "output_type": "stream",
     "text": [
      "entrer le nombre d'élève3\n",
      "entrer la 1 ère note3\n",
      "entrer la 2 ème note5\n",
      "entrer la 3 ème note6\n",
      "la 1ère valeur est: 3.0\n",
      "la 2ème valeur est: 5.0\n",
      "la 3ème valeur est: 6.0\n"
     ]
    }
   ],
   "source": [
    "N=int(input(\"entrer le nombre d'élève\"))\n",
    "l=[]\n",
    "for i in range (N):\n",
    "    if i==0:\n",
    "        E=float(input(f\"entrer la {i+1} ère note\"))\n",
    "    else:\n",
    "        E=float(input(f\"entrer la {i+1} ème note\"))\n",
    "    l.append(E)\n",
    "for i in range (N):\n",
    "    if i==0:\n",
    "        E=print(f\"la {i+1}ère valeur est:\",l[i])\n",
    "    else:\n",
    "        E=print(f\"la {i+1}ème valeur est:\",l[i])\n"
   ]
  },
  {
   "cell_type": "code",
   "execution_count": 10,
   "id": "36147f2b",
   "metadata": {},
   "outputs": [
    {
     "name": "stdout",
     "output_type": "stream",
     "text": [
      "entrer le nombre d'élève4\n",
      "entrer la 1 ère note3\n",
      "entrer la 2 ème note4\n",
      "entrer la 3 ème note5\n",
      "entrer la 4 ème note3\n",
      "la 1 ère valeur est: 3.0\n",
      "la 2 ème valeur est: 4.0\n",
      "la 3 ème valeur est: 5.0\n",
      "la 4 ème valeur est: 3.0\n"
     ]
    }
   ],
   "source": [
    "N=int(input(\"entrer le nombre d'élève\"))\n",
    "l=[]\n",
    "for i in range (N):\n",
    "    if i==0:\n",
    "        E=float(input(f\"entrer la {i+1} ère note\"))\n",
    "    else:\n",
    "        E=float(input(f\"entrer la {i+1} ème note\"))\n",
    "    l.append(E)\n",
    "tuple=(l)\n",
    "for i in range (N):\n",
    "    if i==0:\n",
    "        E=print(f'la {i+1} ère valeur est:',tuple[i])\n",
    "    else:\n",
    "        E=print(f'la {i+1} ème valeur est:',tuple[i])"
   ]
  },
  {
   "cell_type": "code",
   "execution_count": 11,
   "id": "22a15d24",
   "metadata": {},
   "outputs": [
    {
     "name": "stdout",
     "output_type": "stream",
     "text": [
      "entrer le nombre d'élève3\n",
      "entrer la 1 ère note1\n",
      "entrer la 2 ème note2\n",
      "entrer la 3 ème note3\n"
     ]
    },
    {
     "data": {
      "text/plain": [
       "(1.0, 2.0, 3.0)"
      ]
     },
     "execution_count": 11,
     "metadata": {},
     "output_type": "execute_result"
    }
   ],
   "source": [
    "N=int(input(\"entrer le nombre d'élève\"))\n",
    "T=()\n",
    "for i in range (N):\n",
    "    if i==0:\n",
    "        E=float(input(f\"entrer la {i+1} ère note\"))\n",
    "        T=T+(E,)\n",
    "    else:\n",
    "        E=float(input(f\"entrer la {i+1} ème note\"))\n",
    "        T=T+(E,)\n",
    "T\n",
    "\n"
   ]
  },
  {
   "cell_type": "code",
   "execution_count": 14,
   "id": "5f0ce3cd",
   "metadata": {},
   "outputs": [
    {
     "name": "stdout",
     "output_type": "stream",
     "text": [
      "entrer le nombre d'élève3\n",
      "entrer la 1 ère note1\n",
      "entrer la 1 ère valeur [1.0]\n",
      "entrer la 2 ème note3\n",
      "la 2 ème valeur est: [3.0]\n",
      "entrer la 3 ème note4\n",
      "la 3 ème valeur est: [4.0]\n"
     ]
    }
   ],
   "source": [
    "N=int(input(\"entrer le nombre d'élève\"))\n",
    "D={}\n",
    "for i in range (N):\n",
    "    if i==0:\n",
    "        E=float(input(f\"entrer la {i+1} ère note\"))\n",
    "        D[E]=print(f\"entrer la {i+1} ère valeur\",[E])\n",
    "    else:\n",
    "        E=float(input(f\"entrer la {i+1} ème note\"))\n",
    "        D[E]=print(f'la {i+1} ème valeur est:',[E])\n",
    "\n",
    "        "
   ]
  },
  {
   "cell_type": "code",
   "execution_count": 72,
   "id": "3d7bd52f",
   "metadata": {},
   "outputs": [
    {
     "name": "stdout",
     "output_type": "stream",
     "text": [
      "entrer le nombre d'élève3\n",
      "entrer la 1 ère note3\n",
      "entrer la 2 ème note4\n",
      "entrer la 3 ème note5\n"
     ]
    },
    {
     "data": {
      "text/plain": [
       "{3.0: 'la 1 ère note', 4.0: 'la 2ème note', 5.0: 'la 3ème note'}"
      ]
     },
     "execution_count": 72,
     "metadata": {},
     "output_type": "execute_result"
    }
   ],
   "source": [
    "N=int(input(\"entrer le nombre d'élève\"))\n",
    "D={}\n",
    "for i in range (N):\n",
    "    if i==0:\n",
    "        E=float(input(f\"entrer la {i+1} ère note\"))\n",
    "        D[E]=(f\"la {i+1} ère note\")\n",
    "    else:\n",
    "        E=float(input(f\"entrer la {i+1} ème note\"))\n",
    "        D[E]=(f\"la {i+1}ème note\")\n",
    "D\n"
   ]
  },
  {
   "cell_type": "markdown",
   "id": "b48dc8f0",
   "metadata": {},
   "source": [
    "for i in D.values():\n",
    "        print(f'la {i+1} ère valeur est',E)\n",
    "else:\n",
    "        print(f'la {i+1} ème valeur est',E"
   ]
  },
  {
   "cell_type": "code",
   "execution_count": 39,
   "id": "bd90603c",
   "metadata": {},
   "outputs": [
    {
     "ename": "KeyboardInterrupt",
     "evalue": "Interrupted by user",
     "output_type": "error",
     "traceback": [
      "\u001b[0;31m---------------------------------------------------------------------------\u001b[0m",
      "\u001b[0;31mKeyboardInterrupt\u001b[0m                         Traceback (most recent call last)",
      "Cell \u001b[0;32mIn[39], line 1\u001b[0m\n\u001b[0;32m----> 1\u001b[0m N\u001b[38;5;241m=\u001b[39m\u001b[38;5;28mint\u001b[39m(\u001b[38;5;28minput\u001b[39m(\u001b[38;5;124m\"\u001b[39m\u001b[38;5;124mentrer le nombre d\u001b[39m\u001b[38;5;124m'\u001b[39m\u001b[38;5;124mélève\u001b[39m\u001b[38;5;124m\"\u001b[39m))\n\u001b[1;32m      2\u001b[0m D\u001b[38;5;241m=\u001b[39m{}\n\u001b[1;32m      3\u001b[0m \u001b[38;5;28;01mfor\u001b[39;00m i \u001b[38;5;129;01min\u001b[39;00m \u001b[38;5;28mrange\u001b[39m (N):\n",
      "File \u001b[0;32m~/anaconda3/lib/python3.11/site-packages/ipykernel/kernelbase.py:1202\u001b[0m, in \u001b[0;36mKernel.raw_input\u001b[0;34m(self, prompt)\u001b[0m\n\u001b[1;32m   1200\u001b[0m     msg \u001b[38;5;241m=\u001b[39m \u001b[38;5;124m\"\u001b[39m\u001b[38;5;124mraw_input was called, but this frontend does not support input requests.\u001b[39m\u001b[38;5;124m\"\u001b[39m\n\u001b[1;32m   1201\u001b[0m     \u001b[38;5;28;01mraise\u001b[39;00m StdinNotImplementedError(msg)\n\u001b[0;32m-> 1202\u001b[0m \u001b[38;5;28;01mreturn\u001b[39;00m \u001b[38;5;28mself\u001b[39m\u001b[38;5;241m.\u001b[39m_input_request(\n\u001b[1;32m   1203\u001b[0m     \u001b[38;5;28mstr\u001b[39m(prompt),\n\u001b[1;32m   1204\u001b[0m     \u001b[38;5;28mself\u001b[39m\u001b[38;5;241m.\u001b[39m_parent_ident[\u001b[38;5;124m\"\u001b[39m\u001b[38;5;124mshell\u001b[39m\u001b[38;5;124m\"\u001b[39m],\n\u001b[1;32m   1205\u001b[0m     \u001b[38;5;28mself\u001b[39m\u001b[38;5;241m.\u001b[39mget_parent(\u001b[38;5;124m\"\u001b[39m\u001b[38;5;124mshell\u001b[39m\u001b[38;5;124m\"\u001b[39m),\n\u001b[1;32m   1206\u001b[0m     password\u001b[38;5;241m=\u001b[39m\u001b[38;5;28;01mFalse\u001b[39;00m,\n\u001b[1;32m   1207\u001b[0m )\n",
      "File \u001b[0;32m~/anaconda3/lib/python3.11/site-packages/ipykernel/kernelbase.py:1245\u001b[0m, in \u001b[0;36mKernel._input_request\u001b[0;34m(self, prompt, ident, parent, password)\u001b[0m\n\u001b[1;32m   1242\u001b[0m \u001b[38;5;28;01mexcept\u001b[39;00m \u001b[38;5;167;01mKeyboardInterrupt\u001b[39;00m:\n\u001b[1;32m   1243\u001b[0m     \u001b[38;5;66;03m# re-raise KeyboardInterrupt, to truncate traceback\u001b[39;00m\n\u001b[1;32m   1244\u001b[0m     msg \u001b[38;5;241m=\u001b[39m \u001b[38;5;124m\"\u001b[39m\u001b[38;5;124mInterrupted by user\u001b[39m\u001b[38;5;124m\"\u001b[39m\n\u001b[0;32m-> 1245\u001b[0m     \u001b[38;5;28;01mraise\u001b[39;00m \u001b[38;5;167;01mKeyboardInterrupt\u001b[39;00m(msg) \u001b[38;5;28;01mfrom\u001b[39;00m \u001b[38;5;28;01mNone\u001b[39;00m\n\u001b[1;32m   1246\u001b[0m \u001b[38;5;28;01mexcept\u001b[39;00m \u001b[38;5;167;01mException\u001b[39;00m:\n\u001b[1;32m   1247\u001b[0m     \u001b[38;5;28mself\u001b[39m\u001b[38;5;241m.\u001b[39mlog\u001b[38;5;241m.\u001b[39mwarning(\u001b[38;5;124m\"\u001b[39m\u001b[38;5;124mInvalid Message:\u001b[39m\u001b[38;5;124m\"\u001b[39m, exc_info\u001b[38;5;241m=\u001b[39m\u001b[38;5;28;01mTrue\u001b[39;00m)\n",
      "\u001b[0;31mKeyboardInterrupt\u001b[0m: Interrupted by user"
     ]
    }
   ],
   "source": [
    "N=int(input(\"entrer le nombre d'élève\"))\n",
    "D={}\n",
    "for i in range (N):\n",
    "    if i==0:\n",
    "        E=float(input(f\"entrer la {i+1} ère note\"))\n",
    "        P=float(input(f\"entrer la {i+1}ère valeur\"))\n",
    "        D[E]=P\n",
    "        \n",
    "    else:\n",
    "        E=float(input(f\"entrer la {i+1} ème note est\"))\n",
    "        P=float(input(f\"entrer la {i+1}ème valeur est\"))\n",
    "        D[E]=P\n",
    "        \n",
    "t=list\n"
   ]
  },
  {
   "cell_type": "markdown",
   "id": "7dd522ab",
   "metadata": {},
   "source": [
    "##### "
   ]
  },
  {
   "cell_type": "code",
   "execution_count": 41,
   "id": "b741aac0",
   "metadata": {},
   "outputs": [
    {
     "name": "stdout",
     "output_type": "stream",
     "text": [
      "Menu:\n",
      "1.ajouter article\n",
      "2.supprimer article\n",
      "3.afficher les éléments\n",
      "4.Exit\n",
      "choisir la commande de 1 à 4:1\n",
      "nombre élément à ajouter:4\n",
      "entrer le 1 er élément1\n",
      "entrer le 2 ème élément2\n",
      "entrer le 3 ème élément3\n",
      "entrer le 4 ème élément4\n",
      "Menu:\n",
      "1.ajouter article\n",
      "2.supprimer article\n",
      "3.afficher les éléments\n",
      "4.Exit\n",
      "choisir la commande de 1 à 4:3\n",
      "le 1 er élément est: 1\n",
      "le 2ème valeur est: 2\n",
      "le 3ème valeur est: 3\n",
      "le 4ème valeur est: 4\n",
      "Menu:\n",
      "1.ajouter article\n",
      "2.supprimer article\n",
      "3.afficher les éléments\n",
      "4.Exit\n",
      "choisir la commande de 1 à 4:2\n",
      "élément à supprimer3\n",
      "Menu:\n",
      "1.ajouter article\n",
      "2.supprimer article\n",
      "3.afficher les éléments\n",
      "4.Exit\n",
      "choisir la commande de 1 à 4:3\n",
      "Menu:\n",
      "1.ajouter article\n",
      "2.supprimer article\n",
      "3.afficher les éléments\n",
      "4.Exit\n"
     ]
    },
    {
     "ename": "KeyboardInterrupt",
     "evalue": "Interrupted by user",
     "output_type": "error",
     "traceback": [
      "\u001b[0;31m---------------------------------------------------------------------------\u001b[0m",
      "\u001b[0;31mKeyboardInterrupt\u001b[0m                         Traceback (most recent call last)",
      "Cell \u001b[0;32mIn[41], line 9\u001b[0m\n\u001b[1;32m      7\u001b[0m \u001b[38;5;28mprint\u001b[39m(\u001b[38;5;124m\"\u001b[39m\u001b[38;5;124m3.afficher les éléments\u001b[39m\u001b[38;5;124m\"\u001b[39m)\n\u001b[1;32m      8\u001b[0m \u001b[38;5;28mprint\u001b[39m(\u001b[38;5;124m\"\u001b[39m\u001b[38;5;124m4.Exit\u001b[39m\u001b[38;5;124m\"\u001b[39m)\n\u001b[0;32m----> 9\u001b[0m c\u001b[38;5;241m=\u001b[39m\u001b[38;5;28mint\u001b[39m(\u001b[38;5;28minput\u001b[39m(\u001b[38;5;124m\"\u001b[39m\u001b[38;5;124mchoisir la commande de 1 à 4:\u001b[39m\u001b[38;5;124m\"\u001b[39m))\n\u001b[1;32m     10\u001b[0m \u001b[38;5;28;01mif\u001b[39;00m c\u001b[38;5;241m==\u001b[39m\u001b[38;5;241m1\u001b[39m:\n\u001b[1;32m     11\u001b[0m     n\u001b[38;5;241m=\u001b[39m\u001b[38;5;28mint\u001b[39m(\u001b[38;5;28minput\u001b[39m(\u001b[38;5;124m\"\u001b[39m\u001b[38;5;124mnombre élément à ajouter:\u001b[39m\u001b[38;5;124m\"\u001b[39m))\n",
      "File \u001b[0;32m~/anaconda3/lib/python3.11/site-packages/ipykernel/kernelbase.py:1202\u001b[0m, in \u001b[0;36mKernel.raw_input\u001b[0;34m(self, prompt)\u001b[0m\n\u001b[1;32m   1200\u001b[0m     msg \u001b[38;5;241m=\u001b[39m \u001b[38;5;124m\"\u001b[39m\u001b[38;5;124mraw_input was called, but this frontend does not support input requests.\u001b[39m\u001b[38;5;124m\"\u001b[39m\n\u001b[1;32m   1201\u001b[0m     \u001b[38;5;28;01mraise\u001b[39;00m StdinNotImplementedError(msg)\n\u001b[0;32m-> 1202\u001b[0m \u001b[38;5;28;01mreturn\u001b[39;00m \u001b[38;5;28mself\u001b[39m\u001b[38;5;241m.\u001b[39m_input_request(\n\u001b[1;32m   1203\u001b[0m     \u001b[38;5;28mstr\u001b[39m(prompt),\n\u001b[1;32m   1204\u001b[0m     \u001b[38;5;28mself\u001b[39m\u001b[38;5;241m.\u001b[39m_parent_ident[\u001b[38;5;124m\"\u001b[39m\u001b[38;5;124mshell\u001b[39m\u001b[38;5;124m\"\u001b[39m],\n\u001b[1;32m   1205\u001b[0m     \u001b[38;5;28mself\u001b[39m\u001b[38;5;241m.\u001b[39mget_parent(\u001b[38;5;124m\"\u001b[39m\u001b[38;5;124mshell\u001b[39m\u001b[38;5;124m\"\u001b[39m),\n\u001b[1;32m   1206\u001b[0m     password\u001b[38;5;241m=\u001b[39m\u001b[38;5;28;01mFalse\u001b[39;00m,\n\u001b[1;32m   1207\u001b[0m )\n",
      "File \u001b[0;32m~/anaconda3/lib/python3.11/site-packages/ipykernel/kernelbase.py:1245\u001b[0m, in \u001b[0;36mKernel._input_request\u001b[0;34m(self, prompt, ident, parent, password)\u001b[0m\n\u001b[1;32m   1242\u001b[0m \u001b[38;5;28;01mexcept\u001b[39;00m \u001b[38;5;167;01mKeyboardInterrupt\u001b[39;00m:\n\u001b[1;32m   1243\u001b[0m     \u001b[38;5;66;03m# re-raise KeyboardInterrupt, to truncate traceback\u001b[39;00m\n\u001b[1;32m   1244\u001b[0m     msg \u001b[38;5;241m=\u001b[39m \u001b[38;5;124m\"\u001b[39m\u001b[38;5;124mInterrupted by user\u001b[39m\u001b[38;5;124m\"\u001b[39m\n\u001b[0;32m-> 1245\u001b[0m     \u001b[38;5;28;01mraise\u001b[39;00m \u001b[38;5;167;01mKeyboardInterrupt\u001b[39;00m(msg) \u001b[38;5;28;01mfrom\u001b[39;00m \u001b[38;5;28;01mNone\u001b[39;00m\n\u001b[1;32m   1246\u001b[0m \u001b[38;5;28;01mexcept\u001b[39;00m \u001b[38;5;167;01mException\u001b[39;00m:\n\u001b[1;32m   1247\u001b[0m     \u001b[38;5;28mself\u001b[39m\u001b[38;5;241m.\u001b[39mlog\u001b[38;5;241m.\u001b[39mwarning(\u001b[38;5;124m\"\u001b[39m\u001b[38;5;124mInvalid Message:\u001b[39m\u001b[38;5;124m\"\u001b[39m, exc_info\u001b[38;5;241m=\u001b[39m\u001b[38;5;28;01mTrue\u001b[39;00m)\n",
      "\u001b[0;31mKeyboardInterrupt\u001b[0m: Interrupted by user"
     ]
    }
   ],
   "source": [
    "shopping_list=[]\n",
    "a=True\n",
    "while a==True:\n",
    "    print(\"Menu:\")\n",
    "    print(\"1.ajouter article\")\n",
    "    print(\"2.supprimer article\")\n",
    "    print(\"3.afficher les éléments\")\n",
    "    print(\"4.Exit\")\n",
    "    c=int(input(\"choisir la commande de 1 à 4:\"))\n",
    "    if c==1:\n",
    "        n=int(input(\"nombre élément à ajouter:\"))\n",
    "        for i in range (n):\n",
    "                if i==0: \n",
    "                      E=input(f\"entrer le {i+1} er élément\")\n",
    "                else:\n",
    "                      E=input(f\"entrer le {i+1} ème élément\")\n",
    "                shopping_list.append(E)\n",
    "    elif c==2:\n",
    "        s=input(\"élément à supprimer\")\n",
    "        shopping_list.remove(s)\n",
    "        n=-1    \n",
    "    elif c==3:\n",
    "        for i in range (n):\n",
    "            if i==0:\n",
    "                print(f\"le {i+1} er élément est:\",shopping_list[i])\n",
    "            else:\n",
    "                print(f\"le {i+1}ème valeur est:\",shopping_list[i])\n",
    "    else:\n",
    "        break\n",
    "    "
   ]
  },
  {
   "cell_type": "code",
   "execution_count": 44,
   "id": "d4b4848f",
   "metadata": {},
   "outputs": [
    {
     "name": "stdout",
     "output_type": "stream",
     "text": [
      "I want to learn to code!\n",
      "I want to learn to do AI!\n"
     ]
    }
   ],
   "source": [
    "def my_function(parameter):\n",
    "    print(\"I want to learn \"+parameter)\n",
    "my_function(\"to code!\")  \n",
    "my_function(\"to do AI!\")  "
   ]
  },
  {
   "cell_type": "code",
   "execution_count": 56,
   "id": "2eaa5206",
   "metadata": {},
   "outputs": [
    {
     "name": "stdout",
     "output_type": "stream",
     "text": [
      "4\n",
      "2\n"
     ]
    }
   ],
   "source": [
    "liste=()\n",
    "def length(liste):\n",
    "    s =0\n",
    "    for i in liste:\n",
    "        s+=1\n",
    "    return(s)\n",
    "a = [1,2,3,4]\n",
    "print(length(a)) \n",
    "b=[2,3]\n",
    "print(length(b))"
   ]
  },
  {
   "cell_type": "code",
   "execution_count": 57,
   "id": "d3ef9163",
   "metadata": {},
   "outputs": [
    {
     "name": "stdout",
     "output_type": "stream",
     "text": [
      "I am from Maroc\n",
      "I am from Algeria\n",
      "I am from Tunisia\n"
     ]
    }
   ],
   "source": [
    "def my_function(country=\"Tunisia\"):\n",
    "    print(\"I am from \"+country)\n",
    "my_function(\"Maroc\")\n",
    "my_function(\"Algeria\")\n",
    "my_function()"
   ]
  },
  {
   "cell_type": "code",
   "execution_count": 60,
   "id": "a2d0bdea",
   "metadata": {},
   "outputs": [
    {
     "name": "stdout",
     "output_type": "stream",
     "text": [
      "insérer un nombre:600\n",
      "1200.0\n"
     ]
    }
   ],
   "source": [
    "double=lambda x:x*2\n",
    "x=float(input(\"insérer un nombre:\"))\n",
    "r= double(x)\n",
    "print(r)"
   ]
  },
  {
   "cell_type": "code",
   "execution_count": 68,
   "id": "14a7cc1d",
   "metadata": {},
   "outputs": [
    {
     "name": "stdout",
     "output_type": "stream",
     "text": [
      "[1, 4, 9, 16, 25, 36]\n"
     ]
    }
   ],
   "source": [
    "numbers= [1, 2, 3, 4, 5,6] \n",
    "squared_numbers = map(lambda x: x*x, numbers)\n",
    "print(list(squared_numbers))"
   ]
  },
  {
   "cell_type": "code",
   "execution_count": 76,
   "id": "195a2c82",
   "metadata": {},
   "outputs": [
    {
     "name": "stdout",
     "output_type": "stream",
     "text": [
      "[96.8, 104.0, 113.0]\n"
     ]
    }
   ],
   "source": [
    "Celsius=[36,40,45]\n",
    "Fahrenheit=map(lambda x:((9/5)*x)+32,Celsius)\n",
    "print(list(Fahrenheit))"
   ]
  },
  {
   "cell_type": "code",
   "execution_count": 11,
   "id": "a1e7c055",
   "metadata": {},
   "outputs": [],
   "source": [
    "def add (x,y):\n",
    "    return x+y\n",
    "def substract(x,y):\n",
    "    return x-y\n",
    "def multiply (x,y):\n",
    "    return x*y\n",
    "def divide(x,y):\n",
    "    return x/y\n",
    "operations={\"+\":add,\"-\":substract,\"*\":multiply,\"/\":divide}\n",
    "def calculator():\n",
    "    first_number=float(input(\"saisir le premier nombre:\"))\n",
    "    a=True\n",
    "    while a==True:\n",
    "        print(\"les opérations valables sont:\")\n",
    "        for i in operations.keys():\n",
    "            print(i)   \n",
    "        symbole=input(\"choisir le symbole de l'opération:\")\n",
    "        second_number=float(input(\"saisir le deuxième nombre\"))\n",
    "        calculation_function=operations[symbole]\n",
    "        answer=calculation_function(first_number,second_number)\n",
    "        print(f\"{first_number}{symbole}{second_number}={answer}\")\n",
    "        c=int(input(\"voulez_vous continuer le calcul?\"))\n",
    "        if c==1:\n",
    "            first_number=answer\n",
    "        else:\n",
    "                a=False\n",
    "                calculator()\n",
    "    \n",
    "        \n",
    "\n",
    "    \n",
    "\n",
    "        \n",
    "        \n",
    "\n",
    "    \n",
    "        \n",
    "    \n",
    "    \n",
    "    \n",
    "        \n",
    "\n"
   ]
  },
  {
   "cell_type": "code",
   "execution_count": null,
   "id": "3a1256ae",
   "metadata": {},
   "outputs": [
    {
     "name": "stdout",
     "output_type": "stream",
     "text": [
      "saisir le premier nombre:3\n",
      "les opérations valables sont:\n",
      "+\n",
      "-\n",
      "*\n",
      "/\n",
      "choisir le symbole de l'opération:+\n",
      "saisir le deuxième nombre5\n",
      "3.0+5.0=8.0\n",
      "voulez_vous continuer le calcul?2\n",
      "saisir le premier nombre:6\n",
      "les opérations valables sont:\n",
      "+\n",
      "-\n",
      "*\n",
      "/\n",
      "choisir le symbole de l'opération:+\n",
      "saisir le deuxième nombre8\n",
      "6.0+8.0=14.0\n",
      "voulez_vous continuer le calcul?3\n"
     ]
    }
   ],
   "source": [
    "calculator()"
   ]
  },
  {
   "cell_type": "code",
   "execution_count": null,
   "id": "733fdf46",
   "metadata": {},
   "outputs": [],
   "source": []
  }
 ],
 "metadata": {
  "kernelspec": {
   "display_name": "Python 3 (ipykernel)",
   "language": "python",
   "name": "python3"
  },
  "language_info": {
   "codemirror_mode": {
    "name": "ipython",
    "version": 3
   },
   "file_extension": ".py",
   "mimetype": "text/x-python",
   "name": "python",
   "nbconvert_exporter": "python",
   "pygments_lexer": "ipython3",
   "version": "3.11.5"
  }
 },
 "nbformat": 4,
 "nbformat_minor": 5
}
