{
 "cells": [
  {
   "cell_type": "code",
   "execution_count": 2,
   "id": "bf369f66",
   "metadata": {},
   "outputs": [
    {
     "name": "stdout",
     "output_type": "stream",
     "text": [
      "hello world !\n"
     ]
    }
   ],
   "source": [
    "print(\"hello world !\")"
   ]
  },
  {
   "cell_type": "code",
   "execution_count": 3,
   "id": "eb7a2f63",
   "metadata": {},
   "outputs": [
    {
     "name": "stdout",
     "output_type": "stream",
     "text": [
      "hello world \n",
      "hello world \n",
      "hello world \n"
     ]
    }
   ],
   "source": [
    "print(\"hello world \")\n",
    "print(\"hello world \")\n",
    "print(\"hello world \")\n"
   ]
  },
  {
   "cell_type": "code",
   "execution_count": 4,
   "id": "a7d1ae33",
   "metadata": {},
   "outputs": [
    {
     "name": "stdout",
     "output_type": "stream",
     "text": [
      "hello world! \n",
      "hello world! \n",
      "hello world! \n",
      "\n"
     ]
    }
   ],
   "source": [
    "print(\"hello world! \\nhello world! \\nhello world! \\n\")"
   ]
  },
  {
   "cell_type": "code",
   "execution_count": 5,
   "id": "c398fd3d",
   "metadata": {},
   "outputs": [
    {
     "name": "stdout",
     "output_type": "stream",
     "text": [
      "hellogomycode\n"
     ]
    }
   ],
   "source": [
    "print(\"hello\"+\"gomycode\")"
   ]
  },
  {
   "cell_type": "code",
   "execution_count": 6,
   "id": "6d172dd3",
   "metadata": {},
   "outputs": [
    {
     "name": "stdout",
     "output_type": "stream",
     "text": [
      "hello gomycode\n"
     ]
    }
   ],
   "source": [
    "print(\"hello\"+\" \"+\"gomycode\")"
   ]
  },
  {
   "cell_type": "code",
   "execution_count": 10,
   "id": "84766430",
   "metadata": {},
   "outputs": [
    {
     "name": "stdout",
     "output_type": "stream",
     "text": [
      "hello\n",
      "gomycode\n"
     ]
    }
   ],
   "source": [
    "print (\"hello\\n\"+\"gomycode\")"
   ]
  },
  {
   "cell_type": "code",
   "execution_count": null,
   "id": "0d77028f",
   "metadata": {},
   "outputs": [],
   "source": [
    "input (\"what’s your name\")"
   ]
  },
  {
   "cell_type": "code",
   "execution_count": 24,
   "id": "f224918f",
   "metadata": {},
   "outputs": [
    {
     "name": "stdout",
     "output_type": "stream",
     "text": [
      "Day 1 - String Manipulation\n",
      "String Concatenation is done with the  sign.\n",
      "e.g. print (\"Hello\" + \"world\")\n",
      "New lines can be created with a backslash and n.\n"
     ]
    }
   ],
   "source": [
    "print(\"Day 1 - String Manipulation\")\n",
    "print(\"String Concatenation is done with the \"+\" sign.\")\n",
    "print('e.g. print (\"Hello\" + \"world\")')\n",
    "print(\"New lines can be created with a backslash and n.\")"
   ]
  },
  {
   "cell_type": "code",
   "execution_count": 36,
   "id": "5ab5d1d7",
   "metadata": {},
   "outputs": [
    {
     "name": "stdout",
     "output_type": "stream",
     "text": [
      "entrez un nombre5\n",
      "5 is positive number\n"
     ]
    }
   ],
   "source": [
    "num=int(input(\"entrez un nombre\"))\n",
    "if num>0:\n",
    "    print(num,\"is positive number\")\n",
    "else:\n",
    "    print(num,\"is negative number\")"
   ]
  },
  {
   "cell_type": "code",
   "execution_count": 7,
   "id": "9e7f44a4",
   "metadata": {},
   "outputs": [
    {
     "name": "stdout",
     "output_type": "stream",
     "text": [
      "entrer la note7\n",
      "redoublant\n"
     ]
    }
   ],
   "source": [
    "x=float(input(\"entrer la note\"))\n",
    "if x>=18: \n",
    "    print (\"mention==excellent\")\n",
    "elif x>=16:\n",
    "    print(\"mention==très bien\" )\n",
    "elif x>=14:\n",
    "    print (\"mention==bien\")\n",
    "elif x>=12:\n",
    "    print(\"mention==assez bien\")\n",
    "elif x>=10: \n",
    "    print (\"mention==passable\")\n",
    "else:\n",
    "    print(\"redoublant\")\n"
   ]
  },
  {
   "cell_type": "code",
   "execution_count": 32,
   "id": "aba52df7",
   "metadata": {},
   "outputs": [
    {
     "name": "stdout",
     "output_type": "stream",
     "text": [
      "entrer la note15\n",
      "entrer l'activiténon\n",
      "mention==bien\n",
      "la note est: 15.0\n"
     ]
    }
   ],
   "source": [
    "x=float(input(\"entrer la note\"))\n",
    "y=input(\"entrer l'activité\")\n",
    "if x>=18: \n",
    "    print (\"mention==excellent\")\n",
    "    if y==\"oui\":\n",
    "        x=x+1\n",
    "elif x>=16:\n",
    "    print(\"mention==très bien\" )\n",
    "    if y==\"oui\":\n",
    "            x=x+1\n",
    "elif x>=14:\n",
    "    print (\"mention==bien\")\n",
    "    if y==\"oui\":\n",
    "            x=x+1  \n",
    "elif x>=12:\n",
    "    print(\"mention==assez bien\")\n",
    "    if y==\"oui\":\n",
    "            x=x+1 \n",
    "elif x>=10: \n",
    "    print (\"mention==passable\")\n",
    "    if y==\"oui\":\n",
    "            x=x+1\n",
    "else:\n",
    "    print(\"redoublant\")\n",
    "print(\"la note est:\",x)\n",
    "\n"
   ]
  },
  {
   "cell_type": "code",
   "execution_count": 34,
   "id": "a4521986",
   "metadata": {},
   "outputs": [
    {
     "name": "stdout",
     "output_type": "stream",
     "text": [
      "entrer le nombre3\n",
      "impaire\n"
     ]
    }
   ],
   "source": [
    "number=int(input(\"entrer le nombre\"))\n",
    "if number%2==0:\n",
    "    print(\"pair\")\n",
    "else:\n",
    "    print(\"impaire\")"
   ]
  },
  {
   "cell_type": "code",
   "execution_count": 35,
   "id": "6f90787a",
   "metadata": {},
   "outputs": [
    {
     "ename": "KeyboardInterrupt",
     "evalue": "Interrupted by user",
     "output_type": "error",
     "traceback": [
      "\u001b[0;31m---------------------------------------------------------------------------\u001b[0m",
      "\u001b[0;31mKeyboardInterrupt\u001b[0m                         Traceback (most recent call last)",
      "Cell \u001b[0;32mIn[35], line 1\u001b[0m\n\u001b[0;32m----> 1\u001b[0m number\u001b[38;5;241m=\u001b[39m\u001b[38;5;28mint\u001b[39m(\u001b[38;5;28minput\u001b[39m(\u001b[38;5;124m\"\u001b[39m\u001b[38;5;124mentrer le nombre\u001b[39m\u001b[38;5;124m\"\u001b[39m))\n\u001b[1;32m      2\u001b[0m \u001b[38;5;28;01mif\u001b[39;00m number\u001b[38;5;241m%\u001b[39m\u001b[38;5;241m2\u001b[39m\u001b[38;5;241m==\u001b[39m\u001b[38;5;241m0\u001b[39m:\n\u001b[1;32m      3\u001b[0m     \u001b[38;5;28mprint\u001b[39m(\u001b[38;5;124m\"\u001b[39m\u001b[38;5;124mpair\u001b[39m\u001b[38;5;124m\"\u001b[39m)\n",
      "File \u001b[0;32m~/anaconda3/lib/python3.11/site-packages/ipykernel/kernelbase.py:1202\u001b[0m, in \u001b[0;36mKernel.raw_input\u001b[0;34m(self, prompt)\u001b[0m\n\u001b[1;32m   1200\u001b[0m     msg \u001b[38;5;241m=\u001b[39m \u001b[38;5;124m\"\u001b[39m\u001b[38;5;124mraw_input was called, but this frontend does not support input requests.\u001b[39m\u001b[38;5;124m\"\u001b[39m\n\u001b[1;32m   1201\u001b[0m     \u001b[38;5;28;01mraise\u001b[39;00m StdinNotImplementedError(msg)\n\u001b[0;32m-> 1202\u001b[0m \u001b[38;5;28;01mreturn\u001b[39;00m \u001b[38;5;28mself\u001b[39m\u001b[38;5;241m.\u001b[39m_input_request(\n\u001b[1;32m   1203\u001b[0m     \u001b[38;5;28mstr\u001b[39m(prompt),\n\u001b[1;32m   1204\u001b[0m     \u001b[38;5;28mself\u001b[39m\u001b[38;5;241m.\u001b[39m_parent_ident[\u001b[38;5;124m\"\u001b[39m\u001b[38;5;124mshell\u001b[39m\u001b[38;5;124m\"\u001b[39m],\n\u001b[1;32m   1205\u001b[0m     \u001b[38;5;28mself\u001b[39m\u001b[38;5;241m.\u001b[39mget_parent(\u001b[38;5;124m\"\u001b[39m\u001b[38;5;124mshell\u001b[39m\u001b[38;5;124m\"\u001b[39m),\n\u001b[1;32m   1206\u001b[0m     password\u001b[38;5;241m=\u001b[39m\u001b[38;5;28;01mFalse\u001b[39;00m,\n\u001b[1;32m   1207\u001b[0m )\n",
      "File \u001b[0;32m~/anaconda3/lib/python3.11/site-packages/ipykernel/kernelbase.py:1245\u001b[0m, in \u001b[0;36mKernel._input_request\u001b[0;34m(self, prompt, ident, parent, password)\u001b[0m\n\u001b[1;32m   1242\u001b[0m \u001b[38;5;28;01mexcept\u001b[39;00m \u001b[38;5;167;01mKeyboardInterrupt\u001b[39;00m:\n\u001b[1;32m   1243\u001b[0m     \u001b[38;5;66;03m# re-raise KeyboardInterrupt, to truncate traceback\u001b[39;00m\n\u001b[1;32m   1244\u001b[0m     msg \u001b[38;5;241m=\u001b[39m \u001b[38;5;124m\"\u001b[39m\u001b[38;5;124mInterrupted by user\u001b[39m\u001b[38;5;124m\"\u001b[39m\n\u001b[0;32m-> 1245\u001b[0m     \u001b[38;5;28;01mraise\u001b[39;00m \u001b[38;5;167;01mKeyboardInterrupt\u001b[39;00m(msg) \u001b[38;5;28;01mfrom\u001b[39;00m \u001b[38;5;28;01mNone\u001b[39;00m\n\u001b[1;32m   1246\u001b[0m \u001b[38;5;28;01mexcept\u001b[39;00m \u001b[38;5;167;01mException\u001b[39;00m:\n\u001b[1;32m   1247\u001b[0m     \u001b[38;5;28mself\u001b[39m\u001b[38;5;241m.\u001b[39mlog\u001b[38;5;241m.\u001b[39mwarning(\u001b[38;5;124m\"\u001b[39m\u001b[38;5;124mInvalid Message:\u001b[39m\u001b[38;5;124m\"\u001b[39m, exc_info\u001b[38;5;241m=\u001b[39m\u001b[38;5;28;01mTrue\u001b[39;00m)\n",
      "\u001b[0;31mKeyboardInterrupt\u001b[0m: Interrupted by user"
     ]
    }
   ],
   "source": [
    "number=int(input(\"entrer le nombre\"))\n",
    "if number%2==0:\n",
    "    print(\"pair\")\n",
    "else:\n",
    "    print(\"impaire\")\n",
    "    "
   ]
  },
  {
   "cell_type": "code",
   "execution_count": 39,
   "id": "5a14387f",
   "metadata": {},
   "outputs": [
    {
     "name": "stdout",
     "output_type": "stream",
     "text": [
      "enter votre âge56\n",
      "number is 672\n",
      "number is 2688\n",
      "number is 20440\n"
     ]
    }
   ],
   "source": [
    "number=int(input(\"enter votre âge\"))\n",
    "Result=90-number\n",
    "x=12*result\n",
    "print (f\"number is {number*x}\")\n",
    "y=48\n",
    "print (f\"number is {number*y}\")\n",
    "z=365\n",
    "print (f\"number is {number*z}\")\n",
    "\n",
    "\n"
   ]
  },
  {
   "cell_type": "code",
   "execution_count": 44,
   "id": "5b7a5e67",
   "metadata": {},
   "outputs": [
    {
     "name": "stdout",
     "output_type": "stream",
     "text": [
      "enter votre âge56\n",
      "you have 12410 days,1768 weeks, and 408 months\n",
      "you have 12410 days 1768 weeks,and 408 months\n",
      "you have 12410 days 1768 weeks,and 408 months\n"
     ]
    }
   ],
   "source": [
    "number=int(input(\"enter votre âge\"))\n",
    "result=90-number\n",
    "x=12*result\n",
    "y=52*result\n",
    "z=365*result\n",
    "print(f\"you have {z} days,{y} weeks, and {x} months\")\n",
    "print(\"you have \"+str(z)+\" days \"+str(y)+\" weeks,and \"+str(x)+\" months\")\n",
    "print(\"you have\", z,\"days\", y,\"weeks,and\", x,\"months\")\n",
    "      "
   ]
  },
  {
   "cell_type": "code",
   "execution_count": 62,
   "id": "79e2ac79",
   "metadata": {},
   "outputs": [
    {
     "name": "stdout",
     "output_type": "stream",
     "text": [
      "entrez une valeur entre 1 et 52\n",
      "inférieur\n"
     ]
    }
   ],
   "source": [
    "import numpy as np\n",
    "x=np.random.randint(1,5)\n",
    "y=int(input(\"entrez une valeur entre 1 et 5\"))\n",
    "if x==y:\n",
    "    print (\"bravo\")\n",
    "if x>y:\n",
    "    print (\"supérieur\")\n",
    "if x<y:\n",
    "    print (\"inférieur\")\n",
    " "
   ]
  },
  {
   "cell_type": "code",
   "execution_count": 71,
   "id": "aff142b4",
   "metadata": {},
   "outputs": [
    {
     "name": "stdout",
     "output_type": "stream",
     "text": [
      "entrez une valeur entre 1 et 55\n",
      "inférieur\n",
      "entrez une valeur entre 1 et 54\n",
      "inférieur\n",
      "entrez une valeur entre 1 et 53\n",
      "bravo\n"
     ]
    }
   ],
   "source": [
    "import numpy as np\n",
    "x=np.random.randint(1,5)\n",
    "b=True\n",
    "while b==True:\n",
    "    y=int(input(\"entrez une valeur entre 1 et 5\"))\n",
    "    if x==y:\n",
    "        print (\"bravo\")\n",
    "        b=False\n",
    "    if x>y:\n",
    "        print (\"supérieur\")\n",
    "    if x<y:\n",
    "        print (\"inférieur\")\n"
   ]
  },
  {
   "cell_type": "code",
   "execution_count": 80,
   "id": "3c3984e5",
   "metadata": {},
   "outputs": [
    {
     "name": "stdout",
     "output_type": "stream",
     "text": [
      "entrez une valeur entre 1 et 55\n",
      "inférieur\n",
      "entrez une valeur entre 1 et 55\n",
      "inférieur\n",
      "entrez une valeur entre 1 et 55\n",
      "inférieur\n"
     ]
    }
   ],
   "source": [
    "import numpy as np\n",
    "x=np.random.randint(1,5)\n",
    "for i in range(3):\n",
    "    y=int(input(\"entrez une valeur entre 1 et 5\"))\n",
    "    if x==y:\n",
    "        print (\"bravo\")\n",
    "        break\n",
    "    if x>y:\n",
    "        print (\"supérieur\")\n",
    "    if x<y:\n",
    "        print (\"inférieur\")\n",
    "\n"
   ]
  },
  {
   "cell_type": "code",
   "execution_count": 85,
   "id": "c6874784",
   "metadata": {},
   "outputs": [
    {
     "name": "stdout",
     "output_type": "stream",
     "text": [
      "0\n",
      "1\n",
      "2\n",
      "3\n",
      "4\n",
      "5\n"
     ]
    }
   ],
   "source": [
    "for i in range(0,6,1):\n",
    "    print(i)"
   ]
  },
  {
   "cell_type": "code",
   "execution_count": 87,
   "id": "4bca7016",
   "metadata": {},
   "outputs": [
    {
     "name": "stdout",
     "output_type": "stream",
     "text": [
      "0\n",
      "1\n",
      "2\n",
      "3\n",
      "4\n",
      "5\n"
     ]
    }
   ],
   "source": [
    "i=0\n",
    "while i<6:\n",
    "    print(i)\n",
    "    i+=1"
   ]
  },
  {
   "cell_type": "code",
   "execution_count": 95,
   "id": "81d347d5",
   "metadata": {},
   "outputs": [
    {
     "name": "stdout",
     "output_type": "stream",
     "text": [
      "entrez une valeur entre 1 et 53\n",
      "inférieur\n",
      "entrez une valeur entre 1 et 52\n",
      "bravo\n"
     ]
    }
   ],
   "source": [
    "import numpy as np\n",
    "x=np.random.randint(1,5)\n",
    "b=True\n",
    "i=1 \n",
    "while b==True and i<4:\n",
    "    y=int(input(\"entrez une valeur entre 1 et 5\"))\n",
    "    if x==y:\n",
    "        print (\"bravo\")\n",
    "        b=False\n",
    "    if x>y:\n",
    "        print (\"supérieur\")\n",
    "    if x<y:\n",
    "        print (\"inférieur\")\n",
    "    i+=1"
   ]
  },
  {
   "cell_type": "code",
   "execution_count": 1,
   "id": "63aff772",
   "metadata": {},
   "outputs": [
    {
     "name": "stdout",
     "output_type": "stream",
     "text": [
      "entrer le nombre d'élève3\n",
      "entrer la 1 ère note10\n",
      "entrer la 2 ème note15\n",
      "entrer la 3 ème note20\n",
      "la moyenne est 15.0 le max est 20.0 le min est 10.0\n"
     ]
    }
   ],
   "source": [
    "N=int(input(\"entrer le nombre d'élève\"))\n",
    "l=[]\n",
    "for i in range (N):\n",
    "    if i==0:\n",
    "        E=float(input(f\"entrer la {i+1} ère note\"))\n",
    "    else:\n",
    "        E=float(input(f\"entrer la {i+1} ème note\"))\n",
    "    l.append(E)\n",
    "print(f\"la moyenne est\",sum(l)/N, \"le max est\", max(l), \"le min est\", min(l))\n",
    "\n",
    "y=int(input\"rentrez)\n",
    "\n",
    "    \n",
    "    \n",
    "\n",
    "\n",
    "\n",
    "\n",
    "\n",
    "\n",
    "\n"
   ]
  },
  {
   "cell_type": "code",
   "execution_count": null,
   "id": "c84a900d",
   "metadata": {},
   "outputs": [
    {
     "name": "stdout",
     "output_type": "stream",
     "text": [
      "Welcome to Python Pizza Deliveries\n"
     ]
    }
   ],
   "source": [
    "print(\"Welcome to Python Pizza Deliveries\")\n",
    "size=input(\"insert the size of the pizza\")\n",
    "if size==large:\n",
    "    print(\"L\")\n",
    "elif size==medium:\n",
    "    print(\"M\")\n",
    "elif size==small:\n",
    "    print(\"S\")\n",
    "y=str(\"yes\")\n",
    "n=str(\"no\")\n",
    "add_pepperoni=input(\"add pepperoni\")\n",
    "if (f'add_pepperoni=y',y):\n",
    "        print(\"Y\")\n",
    "else:\n",
    "        print(\"N\")\n",
    "extra_cheese=input(\"extra cheese\")\n",
    "if(f'extra_cheese=y',y):\n",
    "    print(\"Y\")\n",
    "else:\n",
    "    print(\"N\")\n",
    "\n",
    "\n"
   ]
  },
  {
   "cell_type": "markdown",
   "id": "bf99c2b2",
   "metadata": {},
   "source": [
    "##### "
   ]
  },
  {
   "cell_type": "code",
   "execution_count": null,
   "id": "af8ab16a",
   "metadata": {},
   "outputs": [],
   "source": []
  }
 ],
 "metadata": {
  "kernelspec": {
   "display_name": "Python 3 (ipykernel)",
   "language": "python",
   "name": "python3"
  },
  "language_info": {
   "codemirror_mode": {
    "name": "ipython",
    "version": 3
   },
   "file_extension": ".py",
   "mimetype": "text/x-python",
   "name": "python",
   "nbconvert_exporter": "python",
   "pygments_lexer": "ipython3",
   "version": "3.11.5"
  }
 },
 "nbformat": 4,
 "nbformat_minor": 5
}
